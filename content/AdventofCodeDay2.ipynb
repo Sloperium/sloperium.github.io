{
 "cells": [
  {
   "cell_type": "markdown",
   "metadata": {},
   "source": [
    "# Day2\n",
    "\n",
    "Solution to day 1 of Advent of Code https://adventofcode.com/2018/day/2\n",
    "\n",
    "## Part 1\n",
    "Making use of Counter from collections to count the number of occurences of each letter."
   ]
  },
  {
   "cell_type": "code",
   "execution_count": 1,
   "metadata": {},
   "outputs": [
    {
     "name": "stdout",
     "output_type": "stream",
     "text": [
      "5750\n"
     ]
    }
   ],
   "source": [
    "from collections import Counter\n",
    "\n",
    "a, b = 0,0\n",
    "with open('datafiles/aoc2input.txt','r') as f:\n",
    "    for line in f.readlines():\n",
    "        c = Counter(line)\n",
    "        if 2 in c.values():\n",
    "            a+=1\n",
    "        if 3 in c.values():\n",
    "            b+=1\n",
    "\n",
    "print(a*b)"
   ]
  },
  {
   "cell_type": "markdown",
   "metadata": {},
   "source": [
    "## Part 2\n",
    "Testing all combinations with combinations from itertools, each combination is tested by zipping two strings together and summing over differences.  We make use  of True evaluating to 1 and False evaluating to 0 when summing."
   ]
  },
  {
   "cell_type": "code",
   "execution_count": 2,
   "metadata": {},
   "outputs": [
    {
     "name": "stdout",
     "output_type": "stream",
     "text": [
      "tzyvunogzariwkpcbdewmjhxi\n",
      "\n"
     ]
    }
   ],
   "source": [
    "from itertools import combinations\n",
    "with open('datafiles/aoc2input.txt','r') as f:\n",
    "    lines = f.readlines()\n",
    "    for a,b in combinations(lines, 2):\n",
    "        if sum(i != j for i, j in zip(a, b)) == 1:\n",
    "            print(\"\".join(i for i,j in zip(a,b) if i==j ))\n",
    "            break"
   ]
  }
 ],
 "metadata": {
  "kernelspec": {
   "display_name": "Python 3",
   "language": "python",
   "name": "python3"
  },
  "language_info": {
   "codemirror_mode": {
    "name": "ipython",
    "version": 3
   },
   "file_extension": ".py",
   "mimetype": "text/x-python",
   "name": "python",
   "nbconvert_exporter": "python",
   "pygments_lexer": "ipython3",
   "version": "3.6.4"
  }
 },
 "nbformat": 4,
 "nbformat_minor": 2
}
