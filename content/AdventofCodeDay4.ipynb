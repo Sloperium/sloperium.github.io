{
 "cells": [
  {
   "cell_type": "markdown",
   "metadata": {},
   "source": [
    "# Day 4\n",
    "\n",
    "Solution to day 4 of Advent of Code https://adventofcode.com/2018/day/4\n",
    "\n",
    "## Data preparation\n",
    "Since both part 1 and two use the same data, we create a function to read and prepare the data in the file:"
   ]
  },
  {
   "cell_type": "code",
   "execution_count": 1,
   "metadata": {},
   "outputs": [],
   "source": [
    "import pandas as pd \n",
    "\n",
    "def read_file():\n",
    "    with open(r\"datafiles\\aoc4input.txt\",'r') as f:\n",
    "        file = f.readlines()\n",
    "    return sorted(file)"
   ]
  },
  {
   "cell_type": "markdown",
   "metadata": {},
   "source": [
    "## Part 1\n",
    "Using numpy to handle the sleepy."
   ]
  },
  {
   "cell_type": "code",
   "execution_count": 2,
   "metadata": {},
   "outputs": [
    {
     "name": "stdout",
     "output_type": "stream",
     "text": [
      "3212\n"
     ]
    }
   ],
   "source": [
    "import re\n",
    "import numpy as np\n",
    "guard = 0\n",
    "asleep = 0\n",
    "\n",
    "#max guard number\n",
    "guards = []\n",
    "for i in read_file():\n",
    "    if 'begins shift' in i:\n",
    "        match = re.search(r'#\\d+', i)\n",
    "        guards.append(int(match.group()[1:]))\n",
    "        \n",
    "sleep = np.zeros((max(guards)+1, 60))\n",
    "\n",
    "for i in read_file():\n",
    "    if 'begins shift' in i:\n",
    "        match = re.search(r'#\\d+', i)\n",
    "        guard = int(match.group()[1:])\n",
    "    if 'asleep' in i:\n",
    "        asleep = int(i[15:17])\n",
    "    if 'wakes up' in i:\n",
    "        sleep[guard,asleep:int(i[15:17])] +=1\n",
    "\n",
    "sleepyguard =   np.argmax(np.sum(sleep,axis=1))      \n",
    "        \n",
    "print(np.argmax(np.sum(sleep,axis=1)) * np.argmax(sleep[sleepyguard]))"
   ]
  },
  {
   "cell_type": "markdown",
   "metadata": {},
   "source": [
    "## Part 2\n",
    "Continuing from above we can easily output the indices of the maximal element."
   ]
  },
  {
   "cell_type": "code",
   "execution_count": 3,
   "metadata": {},
   "outputs": [
    {
     "name": "stdout",
     "output_type": "stream",
     "text": [
      "4966\n"
     ]
    }
   ],
   "source": [
    "ind = np.unravel_index(np.argmax(sleep,axis=None), sleep.shape)\n",
    "print(ind[0]*ind[1])"
   ]
  }
 ],
 "metadata": {
  "kernelspec": {
   "display_name": "Python 3",
   "language": "python",
   "name": "python3"
  },
  "language_info": {
   "codemirror_mode": {
    "name": "ipython",
    "version": 3
   },
   "file_extension": ".py",
   "mimetype": "text/x-python",
   "name": "python",
   "nbconvert_exporter": "python",
   "pygments_lexer": "ipython3",
   "version": "3.6.5"
  }
 },
 "nbformat": 4,
 "nbformat_minor": 2
}
