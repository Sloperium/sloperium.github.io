{
 "cells": [
  {
   "cell_type": "markdown",
   "metadata": {},
   "source": [
    "# Project euler #2 \n",
    "Testing out \"https://github.com/danielfrg/pelican-ipynb\" , a plugin that allows you to blog with Jupyter notebooks.\n",
    "\n",
    "## Problem definition\n",
    "\n",
    "Project Euler #2 \"https://projecteuler.net/problem=2\", By considering the terms in the Fibonacci sequence whose values do not exceed four million, find the sum of the even-valued terms.\n",
    "\n",
    "By using a loop (and not a recursive function) we avoid the only pit fall here, calculating the answer in very short time."
   ]
  },
  {
   "cell_type": "code",
   "execution_count": 10,
   "metadata": {},
   "outputs": [
    {
     "name": "stdout",
     "output_type": "stream",
     "text": [
      "4613732\n"
     ]
    }
   ],
   "source": [
    "f1 = 0\n",
    "f2 = 1\n",
    "s = 0\n",
    "\n",
    "while f2 < 4*10**6:\n",
    "    f1,f2 = f2, f1+f2\n",
    "    if f2%2 == 0:\n",
    "        s+= f2\n",
    "\n",
    "print(s)\n"
   ]
  }
 ],
 "metadata": {
  "kernelspec": {
   "display_name": "Python 3",
   "language": "python",
   "name": "python3"
  },
  "language_info": {
   "codemirror_mode": {
    "name": "ipython",
    "version": 3
   },
   "file_extension": ".py",
   "mimetype": "text/x-python",
   "name": "python",
   "nbconvert_exporter": "python",
   "pygments_lexer": "ipython3",
   "version": "3.6.4"
  }
 },
 "nbformat": 4,
 "nbformat_minor": 2
}
