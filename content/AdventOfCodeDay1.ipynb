{
 "cells": [
  {
   "cell_type": "markdown",
   "metadata": {},
   "source": [
    "# Advent of Code calendar\n",
    "\n",
    "Solution to day 1 of Advent of Code\n",
    "https://adventofcode.com/2018/day/1\n",
    "\n",
    "## Day 1 part 1"
   ]
  },
  {
   "cell_type": "code",
   "execution_count": 1,
   "metadata": {},
   "outputs": [
    {
     "name": "stdout",
     "output_type": "stream",
     "text": [
      "543\n"
     ]
    }
   ],
   "source": [
    "with open('aoc1input.txt','r') as f:\n",
    "    print(sum([int(i) for i in f.readlines()]))"
   ]
  },
  {
   "cell_type": "markdown",
   "metadata": {},
   "source": [
    "## Day 1 part 2"
   ]
  },
  {
   "cell_type": "code",
   "execution_count": 2,
   "metadata": {},
   "outputs": [
    {
     "name": "stdout",
     "output_type": "stream",
     "text": [
      "621\n"
     ]
    }
   ],
   "source": [
    "from itertools import cycle\n",
    "\n",
    "with open('aoc1input.txt','r') as f:\n",
    "    y = [int(i) for i in f.readlines()]\n",
    "\n",
    "    d = set([0])\n",
    "    v = 0\n",
    "    for n in cycle(y):\n",
    "        v += n\n",
    "        if v in d:\n",
    "            print(v)\n",
    "            break\n",
    "        else:\n",
    "            d.add(v)\n"
   ]
  }
 ],
 "metadata": {
  "kernelspec": {
   "display_name": "Python 3",
   "language": "python",
   "name": "python3"
  },
  "language_info": {
   "codemirror_mode": {
    "name": "ipython",
    "version": 3
   },
   "file_extension": ".py",
   "mimetype": "text/x-python",
   "name": "python",
   "nbconvert_exporter": "python",
   "pygments_lexer": "ipython3",
   "version": "3.6.4"
  }
 },
 "nbformat": 4,
 "nbformat_minor": 2
}
