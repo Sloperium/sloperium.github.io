{
 "cells": [
  {
   "cell_type": "markdown",
   "metadata": {},
   "source": [
    "# Advent of Code calendar\n",
    "\n",
    "Solution to day 1 of Advent of Code\n",
    "https://adventofcode.com/2018/day/1\n",
    "\n",
    "## Day 1 part 1\n",
    "Part one is simple list comprehension and sum:"
   ]
  },
  {
   "cell_type": "code",
   "execution_count": 1,
   "metadata": {},
   "outputs": [
    {
     "name": "stdout",
     "output_type": "stream",
     "text": [
      "543\n"
     ]
    }
   ],
   "source": [
    "with open('datafiles/aoc1input.txt','r') as f:\n",
    "    print(sum([int(i) for i in f.readlines()]))"
   ]
  },
  {
   "cell_type": "markdown",
   "metadata": {},
   "source": [
    "## Day 1 part 2\n",
    "In part two we can make use of the interesting \"cycle\" iterator function, that repeats the elements of an iterator over and over."
   ]
  },
  {
   "cell_type": "code",
   "execution_count": 2,
   "metadata": {},
   "outputs": [
    {
     "name": "stdout",
     "output_type": "stream",
     "text": [
      "621\n"
     ]
    }
   ],
   "source": [
    "from itertools import cycle\n",
    "\n",
    "with open(r'datafiles/aoc1input.txt','r') as file:\n",
    "    seen_frequencies = set([0])\n",
    "    current_frequency = 0\n",
    "    for delta in cycle([int(i) for i in file.readlines()]):\n",
    "        current_frequency += delta\n",
    "        if current_frequency in seen_frequencies:\n",
    "            print(current_frequency)\n",
    "            break\n",
    "        else:\n",
    "            seen_frequencies.add(current_frequency)\n"
   ]
  }
 ],
 "metadata": {
  "kernelspec": {
   "display_name": "Python 3",
   "language": "python",
   "name": "python3"
  },
  "language_info": {
   "codemirror_mode": {
    "name": "ipython",
    "version": 3
   },
   "file_extension": ".py",
   "mimetype": "text/x-python",
   "name": "python",
   "nbconvert_exporter": "python",
   "pygments_lexer": "ipython3",
   "version": "3.6.4"
  }
 },
 "nbformat": 4,
 "nbformat_minor": 2
}
