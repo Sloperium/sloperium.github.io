{
 "cells": [
  {
   "cell_type": "markdown",
   "metadata": {},
   "source": [
    "# Day 5\n",
    "\n",
    "Solution to day 5 of Advent of Code https://adventofcode.com/2018/day/5\n",
    "\n",
    "## Data preparation\n",
    "Since both part 1 and two use the same data, we create a function to read and prepare the data in the file:"
   ]
  },
  {
   "cell_type": "code",
   "execution_count": 1,
   "metadata": {},
   "outputs": [],
   "source": [
    "def read_file():\n",
    "    with open(r\"datafiles\\aoc5input.txt\",'r') as f:\n",
    "        line = f.read()\n",
    "        return line"
   ]
  },
  {
   "cell_type": "markdown",
   "metadata": {},
   "source": [
    "## Part 1\n",
    "Using deques"
   ]
  },
  {
   "cell_type": "code",
   "execution_count": 2,
   "metadata": {},
   "outputs": [
    {
     "data": {
      "text/plain": [
       "11546"
      ]
     },
     "execution_count": 2,
     "metadata": {},
     "output_type": "execute_result"
    }
   ],
   "source": [
    "from collections import deque\n",
    "\n",
    "def match(left,right):\n",
    "    return left and left[-1] != right[0] and left[-1].lower() == right[0].lower()\n",
    "\n",
    "def part1(s):\n",
    "    left = deque()\n",
    "    right = deque(s)\n",
    "    while right[0] != '\\n':\n",
    "        if match(left,right):\n",
    "            left.pop()\n",
    "            right.popleft()\n",
    "        else:\n",
    "            left.append(right.popleft())\n",
    "\n",
    "    return len(left)\n",
    "\n",
    "part1(read_file())\n",
    "        "
   ]
  },
  {
   "cell_type": "markdown",
   "metadata": {},
   "source": [
    "## Part 2\n",
    "Lets do part 1 26 times."
   ]
  },
  {
   "cell_type": "code",
   "execution_count": 3,
   "metadata": {},
   "outputs": [
    {
     "data": {
      "text/plain": [
       "5124"
      ]
     },
     "execution_count": 3,
     "metadata": {},
     "output_type": "execute_result"
    }
   ],
   "source": [
    "from string import ascii_lowercase\n",
    "\n",
    "s = read_file()\n",
    "\n",
    "min([part1(s.replace(i,'').replace(i.upper(),'')) for i in ascii_lowercase])\n",
    "    "
   ]
  }
 ],
 "metadata": {
  "kernelspec": {
   "display_name": "Python 3",
   "language": "python",
   "name": "python3"
  },
  "language_info": {
   "codemirror_mode": {
    "name": "ipython",
    "version": 3
   },
   "file_extension": ".py",
   "mimetype": "text/x-python",
   "name": "python",
   "nbconvert_exporter": "python",
   "pygments_lexer": "ipython3",
   "version": "3.6.4"
  }
 },
 "nbformat": 4,
 "nbformat_minor": 2
}
