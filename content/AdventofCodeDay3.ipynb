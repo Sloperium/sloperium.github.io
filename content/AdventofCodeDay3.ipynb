{
 "cells": [
  {
   "cell_type": "markdown",
   "metadata": {},
   "source": [
    "# Day3\n",
    "\n",
    "Solution to day 1 of Advent of Code https://adventofcode.com/2018/day/3\n",
    "\n",
    "## Part 1\n",
    "Using numpy to handle the fabric."
   ]
  },
  {
   "cell_type": "code",
   "execution_count": 33,
   "metadata": {},
   "outputs": [
    {
     "name": "stdout",
     "output_type": "stream",
     "text": [
      "118539\n"
     ]
    }
   ],
   "source": [
    "import numpy as np\n",
    "import ast\n",
    "\n",
    "fabric = np.zeros((1000,1000))\n",
    "\n",
    "with open('datafiles/aoc3input.txt','r') as f:\n",
    "    for line in f.readlines():\n",
    "        id, cut =  line.split('@')\n",
    "        start, size = cut.split(':')\n",
    "        start_x,start_y = ast.literal_eval(start.strip())\n",
    "        cut_x,cut_y = ast.literal_eval(size.replace('x',',').strip())\n",
    "        fabric[start_y:start_y+cut_y,start_x:start_x+cut_x] +=1\n",
    "\n",
    "print(len(np.where(fabric > 1)[0]))\n",
    "        "
   ]
  },
  {
   "cell_type": "markdown",
   "metadata": {},
   "source": [
    "## Part 2\n"
   ]
  },
  {
   "cell_type": "code",
   "execution_count": 2,
   "metadata": {},
   "outputs": [
    {
     "name": "stdout",
     "output_type": "stream",
     "text": [
      "tzyvunogzariwkpcbdewmjhxi\n",
      "\n"
     ]
    }
   ],
   "source": [
    "with open('datafiles/aoc3input.txt','r') as f:\n",
    "    for line in f.readlines():\n",
    "        id, cut =  line.split('@')\n",
    "        start, size = cut.split(':')\n",
    "        start_x,start_y = ast.literal_eval(start.strip())\n",
    "        cut_x,cut_y = ast.literal_eval(size.replace('x',',').strip())\n",
    "        fabric[start_y:start_y+cut_y,start_x:start_x+cut_x] +=1"
   ]
  }
 ],
 "metadata": {
  "kernelspec": {
   "display_name": "Python 3",
   "language": "python",
   "name": "python3"
  },
  "language_info": {
   "codemirror_mode": {
    "name": "ipython",
    "version": 3
   },
   "file_extension": ".py",
   "mimetype": "text/x-python",
   "name": "python",
   "nbconvert_exporter": "python",
   "pygments_lexer": "ipython3",
   "version": "3.6.5"
  }
 },
 "nbformat": 4,
 "nbformat_minor": 2
}
