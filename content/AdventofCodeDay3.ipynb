{
 "cells": [
  {
   "cell_type": "markdown",
   "metadata": {},
   "source": [
    "# Day3\n",
    "\n",
    "Solution to day 3 of Advent of Code https://adventofcode.com/2018/day/3\n",
    "\n",
    "## Data preparation\n",
    "Since both part 1 and two use the same data, we create a function to read and prepare the data in the file:"
   ]
  },
  {
   "cell_type": "code",
   "execution_count": 1,
   "metadata": {},
   "outputs": [],
   "source": [
    "def read_file():\n",
    "    with open('datafiles/aoc3input.txt','r') as f:\n",
    "        for line in f.readlines():\n",
    "            id, cut =  line.split('@')\n",
    "            id = ast.literal_eval(id[1:])\n",
    "            start, size = cut.split(':')\n",
    "            start_x,start_y = ast.literal_eval(start.strip())\n",
    "            cut_x,cut_y = ast.literal_eval(size.replace('x',',').strip())\n",
    "            yield id, start_x,start_y, cut_x,cut_y"
   ]
  },
  {
   "cell_type": "markdown",
   "metadata": {},
   "source": [
    "## Part 1\n",
    "Using numpy to handle the fabric."
   ]
  },
  {
   "cell_type": "code",
   "execution_count": 2,
   "metadata": {},
   "outputs": [
    {
     "name": "stdout",
     "output_type": "stream",
     "text": [
      "118539\n"
     ]
    }
   ],
   "source": [
    "import numpy as np\n",
    "import ast\n",
    "\n",
    "fabric = np.zeros((1000,1000))\n",
    "\n",
    "for id, start_x,start_y, cut_x,cut_y in read_file():\n",
    "        fabric[start_y:start_y+cut_y,start_x:start_x+cut_x] +=1\n",
    "\n",
    "print(len(np.where(fabric > 1)[0]))\n",
    "        "
   ]
  },
  {
   "cell_type": "markdown",
   "metadata": {},
   "source": [
    "## Part 2\n",
    "Using numpy again and keeping a set of cuts that havent collided with any yet."
   ]
  },
  {
   "cell_type": "code",
   "execution_count": 3,
   "metadata": {},
   "outputs": [
    {
     "name": "stdout",
     "output_type": "stream",
     "text": [
      "{1270}\n"
     ]
    }
   ],
   "source": [
    "fabric = np.zeros((1000,1000))\n",
    "d = set()\n",
    "for id, start_x,start_y, cut_x,cut_y in read_file():\n",
    "    if not np.any(fabric[start_y:start_y+cut_y,start_x:start_x+cut_x]):\n",
    "        d.add(id)\n",
    "    else:\n",
    "        for a in np.unique(fabric[start_y:start_y+cut_y,start_x:start_x+cut_x]):\n",
    "            d.discard(a)    \n",
    "    fabric[start_y:start_y+cut_y,start_x:start_x+cut_x] = id\n",
    "print(d)"
   ]
  }
 ],
 "metadata": {
  "kernelspec": {
   "display_name": "Python 3",
   "language": "python",
   "name": "python3"
  },
  "language_info": {
   "codemirror_mode": {
    "name": "ipython",
    "version": 3
   },
   "file_extension": ".py",
   "mimetype": "text/x-python",
   "name": "python",
   "nbconvert_exporter": "python",
   "pygments_lexer": "ipython3",
   "version": "3.6.5"
  }
 },
 "nbformat": 4,
 "nbformat_minor": 2
}
